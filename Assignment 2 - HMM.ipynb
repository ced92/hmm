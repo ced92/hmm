{
 "cells": [
  {
   "cell_type": "code",
   "execution_count": null,
   "metadata": {
    "collapsed": true
   },
   "outputs": [],
   "source": [
    "import seaborn as sns; sns.set(color_codes=True)\n",
    "import matplotlib.pyplot as plt\n",
    "%matplotlib inline\n",
    "\n",
    "plt.style.use('seaborn-talk')\n",
    "sns.set_style(\"whitegrid\")\n",
    "sns.set_context(\"paper\", font_scale=1.5)\n",
    "\n",
    "import copy\n",
    "\n",
    "import numpy as np\n",
    "from scipy.stats import multivariate_normal\n",
    "import pandas as pd\n",
    "\n",
    "np.random.seed(1596)\n",
    "\n",
    "from hmm import HMM\n",
    "from vi import GammaNormal, GaussianVI"
   ]
  },
  {
   "cell_type": "markdown",
   "metadata": {},
   "source": [
    "# Sampling from Sum-HMM"
   ]
  },
  {
   "cell_type": "code",
   "execution_count": null,
   "metadata": {
    "collapsed": true
   },
   "outputs": [],
   "source": [
    "def plot_sampling_distributions(num_samples, prob_list):\n",
    "    fig, ax = plt.subplots()\n",
    "    ind = np.arange(1,num_samples+1)\n",
    "    width = 0.20\n",
    "    prob_list = list(map(lambda x: x*100, prob_list)) # Convert to %\n",
    "    state_0_probs = [x[0] for x in prob_list]\n",
    "    state_1_probs = [x[1] for x in prob_list]\n",
    "\n",
    "    ax.bar(ind+width, state_0_probs, label='$Z_0$', color='r', width=0.4, alpha=0.9)\n",
    "    ax.bar(ind-width, state_1_probs, label='$Z_1$'.format(1), color='b', width=0.4, alpha=0.9)\n",
    "    ax.set_ylim([0, 100])\n",
    "    ax.set_xticks(ind)\n",
    "    ax.set_ylabel('Probability %')\n",
    "    ax.set_xlabel('Node')\n",
    "    ax.set_title('Cond. prob. dist. for various stages in sampling procedure')\n",
    "    ax.legend()"
   ]
  },
  {
   "cell_type": "code",
   "execution_count": null,
   "metadata": {
    "collapsed": true
   },
   "outputs": [],
   "source": [
    "def draw_samples_hmm(num_samples,starting_prior,evidence_matrix,transition_matrix,prob_observe):\n",
    "    # Sample some values from HMM\n",
    "    hmm = HMM(starting_prior, evidence_matrix, transition_matrix, prob_observe)\n",
    "    state_sequence = []\n",
    "    for _ in range(num_samples):\n",
    "        state_sequence.append(hmm.state)\n",
    "        hmm.run()\n",
    "\n",
    "    actual_outcomes = hmm.actual_outcomes\n",
    "    observed_outcomes = hmm.observed_outcomes\n",
    "    state_seq = state_sequence\n",
    "    observed_sum = np.sum(actual_outcomes)\n",
    "    print(\"State Seq: {}\".format(state_seq))\n",
    "    print(\"Observed Outcomes: {}\".format(observed_outcomes))\n",
    "    print(\"Actual outcomes: {}\".format(actual_outcomes))\n",
    "    print(observed_sum)\n",
    "    \n",
    "    return observed_outcomes, observed_sum, hmm"
   ]
  },
  {
   "cell_type": "markdown",
   "metadata": {},
   "source": [
    "## Test Case 1"
   ]
  },
  {
   "cell_type": "code",
   "execution_count": null,
   "metadata": {
    "scrolled": false
   },
   "outputs": [],
   "source": [
    "# Define parameters\n",
    "starting_prior = [1/2, 1/2]\n",
    "dice_dist1 = [1/6]*6\n",
    "dice_dist2 = [1/6]*6\n",
    "evidence_matrix = [dice_dist1, dice_dist2]\n",
    "transition_matrix = [[1/4, 3/4],[3/4, 1/4]]\n",
    "prob_observe = 1\n",
    "num_samples = 5\n",
    "\n",
    "# Sample and run inference and re-sample\n",
    "observed_outcomes, observed_sum, hmm = draw_samples_hmm(num_samples,starting_prior,evidence_matrix,transition_matrix,prob_observe)\n",
    "states_list, prob_list = hmm.sample_states(observed_outcomes, observed_sum)\n",
    "plot_sampling_distributions(num_samples, prob_list)"
   ]
  },
  {
   "cell_type": "markdown",
   "metadata": {},
   "source": [
    "## Test Case 2"
   ]
  },
  {
   "cell_type": "code",
   "execution_count": null,
   "metadata": {},
   "outputs": [],
   "source": [
    "# Define parameters\n",
    "starting_prior = [1/2, 1/2]\n",
    "dice_dist1 = [90/100] + [2/100]*5\n",
    "dice_dist2 = [2.5/100]*4 + [45/100]*2\n",
    "evidence_matrix = [dice_dist1, dice_dist2]\n",
    "transition_matrix = [[1/4, 3/4],[3/4, 1/4]]\n",
    "prob_observe = 1\n",
    "num_samples = 5\n",
    "\n",
    "\n",
    "# Sample and run inference and re-sample\n",
    "observed_outcomes, observed_sum, hmm = draw_samples_hmm(num_samples,starting_prior, evidence_matrix,transition_matrix,prob_observe)\n",
    "states_list, prob_list = hmm.sample_states(observed_outcomes, observed_sum)\n",
    "plot_sampling_distributions(num_samples, prob_list)\n",
    "plt.savefig('./state_seq_sampling_p=1.png')"
   ]
  },
  {
   "cell_type": "markdown",
   "metadata": {},
   "source": [
    "## Test Case 3"
   ]
  },
  {
   "cell_type": "code",
   "execution_count": null,
   "metadata": {},
   "outputs": [],
   "source": [
    "# Define parameters\n",
    "starting_prior = [1/2, 1/2]\n",
    "dice_dist1 = [90/100] + [2/100]*5\n",
    "dice_dist2 = [2.5/100]*4 + [45/100]*2\n",
    "evidence_matrix = [dice_dist1, dice_dist2]\n",
    "transition_matrix = [[1/4, 3/4],[3/4, 1/4]]\n",
    "prob_observe = 0.5\n",
    "num_samples = 5\n",
    "\n",
    "# Sample and run inference and re-sample\n",
    "observed_outcomes, observed_sum, hmm = draw_samples_hmm(num_samples,starting_prior, evidence_matrix,transition_matrix,prob_observe)\n",
    "states_list, prob_list = hmm.sample_states(observed_outcomes, observed_sum)\n",
    "plot_sampling_distributions(num_samples, prob_list)\n",
    "plt.savefig('./state_seq_sampling_p=0-5.png')"
   ]
  },
  {
   "cell_type": "markdown",
   "metadata": {},
   "source": [
    "# Simple Variational Inference\n",
    "Illustrates convergence of a simple VI algorithm for the posteriors of mean and precision for a 1-d gaussian"
   ]
  },
  {
   "cell_type": "code",
   "execution_count": null,
   "metadata": {
    "collapsed": true
   },
   "outputs": [],
   "source": [
    "def visualize_density(rv, resolution=300, color='green', labell=None, ax=None):\n",
    "    tau = np.linspace(0.01,1,resolution)\n",
    "    mu = np.linspace(0,2,resolution)\n",
    "    X, Y = np.meshgrid(mu, tau)\n",
    "    Z = rv.pdf(Y, X)\n",
    "    if ax == None:\n",
    "        plt.contour(X, Y, Z, colors=color, label=labell);\n",
    "    else:\n",
    "        ax.contour(X, Y, Z, colors=color, label=labell);"
   ]
  },
  {
   "cell_type": "code",
   "execution_count": null,
   "metadata": {
    "collapsed": true
   },
   "outputs": [],
   "source": [
    "dataX = np.random.normal(0,2,12) # Freeze the data"
   ]
  },
  {
   "cell_type": "code",
   "execution_count": null,
   "metadata": {},
   "outputs": [],
   "source": [
    "alpha_0 = 1\n",
    "beta_0 = 2\n",
    "mu_0 = 0\n",
    "lambda_0 = 2\n",
    "gammaNormal = GammaNormal(dataX, alpha_0, beta_0, mu_0, lambda_0)\n",
    "gaussianVI = GaussianVI(dataX, alpha_0, beta_0, mu_0, lambda_0)"
   ]
  },
  {
   "cell_type": "code",
   "execution_count": null,
   "metadata": {},
   "outputs": [],
   "source": [
    "f, axarr = plt.subplots(2,2)\n",
    "for i in range(2):\n",
    "    for j in range(2):\n",
    "        axarr[i, j].set_title('Initial Posterior')\n",
    "        if ((i,j) == (0,1)):\n",
    "            gaussianVI.update_gaussian()\n",
    "            axarr[i, j].set_title('After update of Gaussian')\n",
    "        elif((i,j) == (1,0)):\n",
    "            axarr[i, j].set_title('After update of Gamma')\n",
    "            gaussianVI.update_gamma()\n",
    "        elif((i,j) == (1,1)):\n",
    "            axarr[i, j].set_title('After convergence')\n",
    "            for k in range(5):\n",
    "                gaussianVI.update_params()\n",
    "\n",
    "        visualize_density(gammaNormal, ax=axarr[i, j], labell='Actual')\n",
    "        visualize_density(gaussianVI,color='red', ax=axarr[i, j], labell='VI')\n",
    "\n",
    "plt.savefig('./vi.png')"
   ]
  },
  {
   "cell_type": "markdown",
   "metadata": {},
   "source": [
    "# Conditional Sum-HMM"
   ]
  },
  {
   "cell_type": "code",
   "execution_count": null,
   "metadata": {
    "collapsed": true
   },
   "outputs": [],
   "source": [
    "def test_plot_conditional(prob_table, ax=None):\n",
    "    if ax == None:\n",
    "        fig, ax = plt.subplots()\n",
    "        \n",
    "    ind = np.arange(1,7)\n",
    "    width = 0.20\n",
    "    prob_table = prob_table * 100 # Convert to %\n",
    "    print(prob_table[1,:])\n",
    "    print(prob_table[0,:])\n",
    "    ax.bar(ind+width, prob_table[0,:], label='$Z_{} = 0$'.format(k), color='r', width=0.4, alpha=0.9)\n",
    "    ax.bar(ind-width, prob_table[1,:], label='$Z_{} = 1$'.format(k), color='b', width=0.4, alpha=0.9)\n",
    "    ax.set_ylim([0, 100])\n",
    "    ax.set_xticks(ind)\n",
    "    ax.set_ylabel('Probability %')\n",
    "    ax.set_xlabel('Dice Outcome: $X_{0}$'.format(k))\n",
    "    ax.set_title('Probability: $p(Z_{}, X_{} | S, O_{})$'.format(k,k,'{1:t}'))\n",
    "    ax.legend()\n",
    "    print('Sum of probabilities: {}'.format(np.sum(prob_table)))"
   ]
  },
  {
   "cell_type": "markdown",
   "metadata": {},
   "source": [
    "## Test Case 1"
   ]
  },
  {
   "cell_type": "code",
   "execution_count": null,
   "metadata": {},
   "outputs": [],
   "source": [
    "# Define parameters\n",
    "starting_prior = [1/2, 1/2]\n",
    "dice_dist1 = [90/100] + [2/100]*5\n",
    "dice_dist2 = [2.5/100]*4 + [45/100]*2\n",
    "evidence_matrix = [dice_dist1, dice_dist2]\n",
    "transition_matrix = [[1/4, 3/4],[3/4, 1/4]]\n",
    "prob_observe = 1\n",
    "num_samples = 4\n",
    "\n",
    "observed_outcomes, observed_sum, hmm = draw_samples_hmm(num_samples,starting_prior,evidence_matrix,transition_matrix,prob_observe)"
   ]
  },
  {
   "cell_type": "code",
   "execution_count": null,
   "metadata": {},
   "outputs": [],
   "source": [
    "k_vals = [1,2,3,4]\n",
    "fig, ax = plt.subplots(2,2)\n",
    "indices = [(0,0),(0,1),(1,0),(1,1)]\n",
    "for i,k in enumerate(k_vals):\n",
    "    index = indices[i]\n",
    "    prob_table = hmm.calculate_conditional(k, observed_sum, observed_outcomes)\n",
    "    test_plot_conditional(prob_table, ax[index[0]][index[1]])\n",
    "plt.tight_layout()\n",
    "plt.savefig('./condit_p=1.png')"
   ]
  },
  {
   "cell_type": "markdown",
   "metadata": {},
   "source": [
    "## Test Case 2"
   ]
  },
  {
   "cell_type": "code",
   "execution_count": null,
   "metadata": {},
   "outputs": [],
   "source": [
    "# Define parameters\n",
    "starting_prior = [1/2, 1/2]\n",
    "dice_dist1 = [90/100] + [2/100]*5\n",
    "dice_dist2 = [2.5/100]*4 + [45/100]*2\n",
    "evidence_matrix = [dice_dist1, dice_dist2]\n",
    "transition_matrix = [[1/4, 3/4],[3/4, 1/4]]\n",
    "prob_observe = 0.4\n",
    "num_samples = 4\n",
    "\n",
    "observed_outcomes, observed_sum, hmm = draw_samples_hmm(num_samples,starting_prior,evidence_matrix,transition_matrix,prob_observe)"
   ]
  },
  {
   "cell_type": "code",
   "execution_count": null,
   "metadata": {
    "scrolled": false
   },
   "outputs": [],
   "source": [
    "k_vals = [1,2,3,4]\n",
    "fig, ax = plt.subplots(2,2)\n",
    "indices = [(0,0),(0,1),(1,0),(1,1)]\n",
    "for i,k in enumerate(k_vals):\n",
    "    index = indices[i]\n",
    "    prob_table = hmm.calculate_conditional(k, observed_sum, observed_outcomes)\n",
    "    test_plot_conditional(prob_table, ax[index[0]][index[1]])\n",
    "plt.tight_layout()\n",
    "plt.savefig('./condit_p=0.4.png')"
   ]
  },
  {
   "cell_type": "markdown",
   "metadata": {},
   "source": [
    "# Validation of implementation"
   ]
  },
  {
   "cell_type": "markdown",
   "metadata": {},
   "source": [
    "## All Dice Fair"
   ]
  },
  {
   "cell_type": "code",
   "execution_count": null,
   "metadata": {},
   "outputs": [],
   "source": [
    "starting_prior = [1/2, 1/2]\n",
    "dice_dist1 = [1/6]*6\n",
    "dice_dist2 = [1/6]*6\n",
    "evidence_matrix = [dice_dist1, dice_dist2]\n",
    "transition_matrix = [[1/4, 3/4],[3/4, 1/4]]\n",
    "prob_observe = 1\n",
    "\n",
    "hmm = HMM(starting_prior, evidence_matrix, transition_matrix, prob_observe)\n",
    "state_sequence = []\n",
    "for _ in range(10000):\n",
    "    state_sequence.append(hmm.state)\n",
    "    hmm.run()\n",
    "\n",
    "outcome_seq = np.array(hmm.actual_outcomes)\n",
    "state_seq = np.array(state_sequence)\n",
    "state1_outcomes = outcome_seq[state_seq == 0]\n",
    "state2_outcomes = outcome_seq[state_seq == 1]\n",
    "\n",
    "f, axs = plt.subplots(1, 3, sharex='col', sharey='row', figsize=(15,5))\n",
    "axs[0].hist(outcome_seq, 50, facecolor='blue', alpha=0.75)\n",
    "axs[0].set_title('Overall Dist. of outcomes')\n",
    "axs[0].set_xlabel('Dice Outcome: $X_i$')\n",
    "axs[1].hist(state1_outcomes, 50, facecolor='red', alpha=0.75, label='State1')\n",
    "axs[1].set_title('Dist. of outcomes from state 0')\n",
    "axs[2].hist(state2_outcomes, 50, facecolor='green', alpha=0.75, label='State2')\n",
    "axs[2].set_title('Dist. of outcomes from state 1')\n",
    "plt.savefig('./equal_equal_cats.png')"
   ]
  },
  {
   "cell_type": "markdown",
   "metadata": {},
   "source": [
    "## Table1 Dice fair, Table2 Dice biased"
   ]
  },
  {
   "cell_type": "code",
   "execution_count": null,
   "metadata": {},
   "outputs": [],
   "source": [
    "starting_prior = [1/2, 1/2]\n",
    "dice_dist1 = [1/6]*6\n",
    "dice_dist2 = [1/12]*4 + [2/6]*2\n",
    "evidence_matrix = [dice_dist1, dice_dist2]\n",
    "transition_matrix = [[1/4, 3/4],[3/4, 1/4]]\n",
    "prob_observe = 1\n",
    "\n",
    "hmm = HMM(starting_prior, evidence_matrix, transition_matrix, prob_observe)\n",
    "state_sequence = []\n",
    "for _ in range(10000):\n",
    "    state_sequence.append(hmm.state)\n",
    "    hmm.run()\n",
    "\n",
    "outcome_seq = np.array(hmm.actual_outcomes)\n",
    "state_seq = np.array(state_sequence)\n",
    "state1_outcomes = outcome_seq[state_seq == 0]\n",
    "state2_outcomes = outcome_seq[state_seq == 1]\n",
    "\n",
    "f, axs = plt.subplots(1, 3, sharex='col', sharey='row', figsize=(15,5))\n",
    "axs[0].hist(outcome_seq, 50, facecolor='blue', alpha=0.75)\n",
    "axs[0].set_title('Overall Dist. of outcomes')\n",
    "axs[0].set_xlabel('Dice Outcome: $X_i$')\n",
    "axs[1].hist(state1_outcomes, 50, facecolor='red', alpha=0.75, label='State1')\n",
    "axs[1].set_title('Dist. of outcomes from state 0')\n",
    "axs[2].hist(state2_outcomes, 50, facecolor='green', alpha=0.75, label='State2')\n",
    "axs[2].set_title('Dist. of outcomes from state 1')\n",
    "plt.savefig('./fair_biased_cats.png')"
   ]
  },
  {
   "cell_type": "markdown",
   "metadata": {},
   "source": [
    "## Dice 1 biased, Dice 2 biased"
   ]
  },
  {
   "cell_type": "code",
   "execution_count": null,
   "metadata": {},
   "outputs": [],
   "source": [
    "starting_prior = [1/2, 1/2]\n",
    "dice_dist1 = [2/6]*2 + [1/12]*4\n",
    "dice_dist2 = [1/12]*4 + [2/6]*2\n",
    "evidence_matrix = [dice_dist1, dice_dist2]\n",
    "transition_matrix = [[1/4, 3/4],[3/4, 1/4]]\n",
    "prob_observe = 1\n",
    "\n",
    "hmm = HMM(starting_prior, evidence_matrix, transition_matrix, prob_observe)\n",
    "state_sequence = []\n",
    "for _ in range(10000):\n",
    "    state_sequence.append(hmm.state)\n",
    "    hmm.run()\n",
    "\n",
    "outcome_seq = np.array(hmm.actual_outcomes)\n",
    "state_seq = np.array(state_sequence)\n",
    "state1_outcomes = outcome_seq[state_seq == 0]\n",
    "state2_outcomes = outcome_seq[state_seq == 1]\n",
    "\n",
    "f, axs = plt.subplots(1, 3, sharex='col', sharey='row', figsize=(15,5))\n",
    "axs[0].hist(outcome_seq, 50, facecolor='blue', alpha=0.75)\n",
    "axs[0].set_title('Overall Dist. of outcomes')\n",
    "axs[0].set_xlabel('Dice Outcome: $X_i$')\n",
    "axs[1].hist(state1_outcomes, 50, facecolor='red', alpha=0.75, label='State1')\n",
    "axs[1].set_title('Dist. of outcomes from state 0')\n",
    "axs[2].hist(state2_outcomes, 50, facecolor='green', alpha=0.75, label='State2')\n",
    "axs[2].set_title('Dist. of outcomes from state 1')\n",
    "plt.savefig('./biased_biased_cats.png')"
   ]
  },
  {
   "cell_type": "code",
   "execution_count": null,
   "metadata": {
    "collapsed": true
   },
   "outputs": [],
   "source": []
  }
 ],
 "metadata": {
  "kernelspec": {
   "display_name": "Python [conda env:tf]",
   "language": "python",
   "name": "conda-env-tf-py"
  },
  "language_info": {
   "codemirror_mode": {
    "name": "ipython",
    "version": 3
   },
   "file_extension": ".py",
   "mimetype": "text/x-python",
   "name": "python",
   "nbconvert_exporter": "python",
   "pygments_lexer": "ipython3",
   "version": "3.6.2"
  }
 },
 "nbformat": 4,
 "nbformat_minor": 2
}
