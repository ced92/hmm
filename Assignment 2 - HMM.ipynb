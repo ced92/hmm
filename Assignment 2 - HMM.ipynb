{
 "cells": [
  {
   "cell_type": "code",
   "execution_count": 1,
   "metadata": {
    "collapsed": true
   },
   "outputs": [],
   "source": [
    "import seaborn as sns; sns.set(color_codes=True)\n",
    "import matplotlib.pyplot as plt\n",
    "%matplotlib inline\n",
    "\n",
    "plt.style.use('seaborn-talk')\n",
    "sns.set_style(\"whitegrid\")\n",
    "sns.set_context(\"paper\", font_scale=1.5)\n",
    "\n",
    "import copy\n",
    "\n",
    "import numpy as np\n",
    "from scipy.stats import multivariate_normal\n",
    "import pandas as pd\n",
    "\n",
    "np.random.seed(1596)\n",
    "\n",
    "from hmm import HMM\n",
    "from vi import GammaNormal, GaussianVI"
   ]
  },
  {
   "cell_type": "code",
   "execution_count": 2,
   "metadata": {
    "collapsed": true
   },
   "outputs": [],
   "source": [
    "def visualize_density(rv, resolution=300, color='green'):\n",
    "    tau = np.linspace(0.01,3,resolution)\n",
    "    mu = np.linspace(-2,2,resolution)\n",
    "    X, Y = np.meshgrid(mu, tau)\n",
    "    Z = rv.pdf(Y, X)\n",
    "    plt.contour(X, Y, Z, colors=color);\n",
    "    \n",
    "#     print(np.max(z))\n",
    "#     levels = np.arange(0, np.max(z), 1e-200)\n",
    "#     print(levels)\n",
    "#     contour_plot = plt.contourf(mu, tau, z, levels, cmap=plt.cm.viridis)"
   ]
  },
  {
   "cell_type": "code",
   "execution_count": 3,
   "metadata": {},
   "outputs": [
    {
     "name": "stdout",
     "output_type": "stream",
     "text": [
      "Gamma settings: \n",
      " a:6.5, b:17.367142704929066\n",
      "Norm settings: \n",
      " mu:1.0635210856433004, prec:14\n"
     ]
    }
   ],
   "source": [
    "dataX = np.random.normal(0,2,12)\n",
    "alpha_0 = 1\n",
    "beta_0 = 2\n",
    "mu_0 = 0\n",
    "lambda_0 = 2\n",
    "gammaNormal = GammaNormal(dataX, alpha_0, beta_0, mu_0, lambda_0)\n",
    "gaussianVI = GaussianVI(dataX, alpha_0, beta_0, mu_0, lambda_0)"
   ]
  },
  {
   "cell_type": "code",
   "execution_count": 4,
   "metadata": {
    "scrolled": false
   },
   "outputs": [
    {
     "data": {
      "image/png": "[encoded data removed]",
      "text/plain": [
       "<matplotlib.figure.Figure at 0x103378d68>"
      ]
     },
     "metadata": {},
     "output_type": "display_data"
    }
   ],
   "source": [
    "visualize_density(gammaNormal)"
   ]
  },
  {
   "cell_type": "code",
   "execution_count": 5,
   "metadata": {},
   "outputs": [
    {
     "ename": "AttributeError",
     "evalue": "'GaussianVI' object has no attribute 'lambda_n'",
     "output_type": "error",
     "traceback": [
      "\u001b[0;31m---------------------------------------------------------------------------\u001b[0m",
      "\u001b[0;31mAttributeError\u001b[0m                            Traceback (most recent call last)",
      "\u001b[0;32m<ipython-input-5-2f212e00f792>\u001b[0m in \u001b[0;36m<module>\u001b[0;34m()\u001b[0m\n\u001b[0;32m----> 1\u001b[0;31m \u001b[0mvisualize_density\u001b[0m\u001b[0;34m(\u001b[0m\u001b[0mgaussianVI\u001b[0m\u001b[0;34m,\u001b[0m\u001b[0mcolor\u001b[0m\u001b[0;34m=\u001b[0m\u001b[0;34m'red'\u001b[0m\u001b[0;34m)\u001b[0m\u001b[0;34m\u001b[0m\u001b[0m\n\u001b[0m",
      "\u001b[0;32m<ipython-input-2-e20b09727d2a>\u001b[0m in \u001b[0;36mvisualize_density\u001b[0;34m(rv, resolution, color)\u001b[0m\n\u001b[1;32m      3\u001b[0m     \u001b[0mmu\u001b[0m \u001b[0;34m=\u001b[0m \u001b[0mnp\u001b[0m\u001b[0;34m.\u001b[0m\u001b[0mlinspace\u001b[0m\u001b[0;34m(\u001b[0m\u001b[0;34m-\u001b[0m\u001b[0;36m2\u001b[0m\u001b[0;34m,\u001b[0m\u001b[0;36m2\u001b[0m\u001b[0;34m,\u001b[0m\u001b[0mresolution\u001b[0m\u001b[0;34m)\u001b[0m\u001b[0;34m\u001b[0m\u001b[0m\n\u001b[1;32m      4\u001b[0m     \u001b[0mX\u001b[0m\u001b[0;34m,\u001b[0m \u001b[0mY\u001b[0m \u001b[0;34m=\u001b[0m \u001b[0mnp\u001b[0m\u001b[0;34m.\u001b[0m\u001b[0mmeshgrid\u001b[0m\u001b[0;34m(\u001b[0m\u001b[0mmu\u001b[0m\u001b[0;34m,\u001b[0m \u001b[0mtau\u001b[0m\u001b[0;34m)\u001b[0m\u001b[0;34m\u001b[0m\u001b[0m\n\u001b[0;32m----> 5\u001b[0;31m     \u001b[0mZ\u001b[0m \u001b[0;34m=\u001b[0m \u001b[0mrv\u001b[0m\u001b[0;34m.\u001b[0m\u001b[0mpdf\u001b[0m\u001b[0;34m(\u001b[0m\u001b[0mY\u001b[0m\u001b[0;34m,\u001b[0m \u001b[0mX\u001b[0m\u001b[0;34m)\u001b[0m\u001b[0;34m\u001b[0m\u001b[0m\n\u001b[0m\u001b[1;32m      6\u001b[0m     \u001b[0mplt\u001b[0m\u001b[0;34m.\u001b[0m\u001b[0mcontour\u001b[0m\u001b[0;34m(\u001b[0m\u001b[0mX\u001b[0m\u001b[0;34m,\u001b[0m \u001b[0mY\u001b[0m\u001b[0;34m,\u001b[0m \u001b[0mZ\u001b[0m\u001b[0;34m,\u001b[0m \u001b[0mcolors\u001b[0m\u001b[0;34m=\u001b[0m\u001b[0mcolor\u001b[0m\u001b[0;34m)\u001b[0m\u001b[0;34m;\u001b[0m\u001b[0;34m\u001b[0m\u001b[0m\n\u001b[1;32m      7\u001b[0m \u001b[0;34m\u001b[0m\u001b[0m\n",
      "\u001b[0;32m~/Documents/ML:AI/HMM/vi.py\u001b[0m in \u001b[0;36mpdf\u001b[0;34m(self, tau, mu)\u001b[0m\n\u001b[1;32m     85\u001b[0m     \u001b[0;32mdef\u001b[0m \u001b[0mpdf\u001b[0m\u001b[0;34m(\u001b[0m\u001b[0mself\u001b[0m\u001b[0;34m,\u001b[0m \u001b[0mtau\u001b[0m\u001b[0;34m,\u001b[0m \u001b[0mmu\u001b[0m\u001b[0;34m)\u001b[0m\u001b[0;34m:\u001b[0m\u001b[0;34m\u001b[0m\u001b[0m\n\u001b[1;32m     86\u001b[0m         \u001b[0;34m\"\"\"Calculates pdf value for certain mu and tau parameters\"\"\"\u001b[0m\u001b[0;34m\u001b[0m\u001b[0m\n\u001b[0;32m---> 87\u001b[0;31m         \u001b[0;32mif\u001b[0m\u001b[0;34m(\u001b[0m\u001b[0mself\u001b[0m\u001b[0;34m.\u001b[0m\u001b[0mlambda_n\u001b[0m\u001b[0;34m)\u001b[0m\u001b[0;34m:\u001b[0m\u001b[0;34m\u001b[0m\u001b[0m\n\u001b[0m\u001b[1;32m     88\u001b[0m             \u001b[0mprob_mu\u001b[0m \u001b[0;34m=\u001b[0m \u001b[0mnorm\u001b[0m\u001b[0;34m.\u001b[0m\u001b[0mpdf\u001b[0m\u001b[0;34m(\u001b[0m\u001b[0mmu\u001b[0m\u001b[0;34m,\u001b[0m \u001b[0mself\u001b[0m\u001b[0;34m.\u001b[0m\u001b[0mmu_n\u001b[0m\u001b[0;34m,\u001b[0m \u001b[0;36m1\u001b[0m\u001b[0;34m/\u001b[0m\u001b[0;34m(\u001b[0m\u001b[0mself\u001b[0m\u001b[0;34m.\u001b[0m\u001b[0mlambda_n\u001b[0m\u001b[0;34m)\u001b[0m\u001b[0;34m)\u001b[0m\u001b[0;34m\u001b[0m\u001b[0m\n\u001b[1;32m     89\u001b[0m         \u001b[0;32melse\u001b[0m\u001b[0;34m:\u001b[0m\u001b[0;34m\u001b[0m\u001b[0m\n",
      "\u001b[0;31mAttributeError\u001b[0m: 'GaussianVI' object has no attribute 'lambda_n'"
     ]
    }
   ],
   "source": [
    "visualize_density(gaussianVI,color='red')"
   ]
  },
  {
   "cell_type": "code",
   "execution_count": null,
   "metadata": {},
   "outputs": [],
   "source": [
    "visualize_density(gammaNormal)\n",
    "visualize_density(gaussianVI,color='red')"
   ]
  },
  {
   "cell_type": "code",
   "execution_count": null,
   "metadata": {},
   "outputs": [],
   "source": [
    "gaussianVI.update_params()"
   ]
  },
  {
   "cell_type": "code",
   "execution_count": null,
   "metadata": {
    "collapsed": true
   },
   "outputs": [],
   "source": [
    "starting_prior = [1/2, 1/2]\n",
    "dice_dist1 = [1/2]+[1/10]*5\n",
    "dice_dist2 = [1/10]*5+[1/2]\n",
    "transition_matrix = [[3/4, 1/4],[1/4, 3/4]]\n",
    "prob_observe = 0.5\n",
    "\n",
    "hmm = HMM(starting_prior, dice_dist1, dice_dist2, transition_matrix, prob_observe)"
   ]
  },
  {
   "cell_type": "markdown",
   "metadata": {},
   "source": [
    "# Testing Cond. Prob"
   ]
  },
  {
   "cell_type": "code",
   "execution_count": null,
   "metadata": {
    "collapsed": true
   },
   "outputs": [],
   "source": [
    "import copy\n",
    "a = [[1,2,3],[1,2,3]]\n",
    "c = copy.deepcopy(a)\n",
    "b = a[:] # Does not work for double list... Need to make deep copy!\n",
    "print(c)\n",
    "b[1][0] = 0\n",
    "c[0][0] = 10\n",
    "print(a)\n",
    "print(b)\n",
    "print(c)"
   ]
  },
  {
   "cell_type": "code",
   "execution_count": null,
   "metadata": {
    "collapsed": true
   },
   "outputs": [],
   "source": [
    "def test_plot_conditional(starting_prior, dice_dist1, dice_dist2, transition_matrix, prob_observe, k, observations_list, s):\n",
    "    hmm = HMM(starting_prior, dice_dist1, dice_dist2, transition_matrix, prob_observe)\n",
    "    prob_table = hmm.calculate_conditional(k, s, observations_list)\n",
    "#     df = pd.DataFrame(prob_table, columns=['state1', 'state2'], index=np.arange(1,7))\n",
    "    fig, ax = plt.subplots()\n",
    "    ind = np.arange(1,7)\n",
    "    width = 0.20\n",
    "    prob_table = prob_table * 100 # Convert to %\n",
    "    print(prob_table[1,:])\n",
    "    print(prob_table[0,:])\n",
    "    ax.bar(ind+width, prob_table[0,:], label='$Z_{} = 1$'.format(k), color='r', width=0.4, alpha=0.9)\n",
    "    ax.bar(ind-width, prob_table[1,:], label='$Z_{} = 2$'.format(k), color='b', width=0.4, alpha=0.9)\n",
    "    ax.set_ylim([0, 100])\n",
    "    ax.set_xticks(ind)\n",
    "    ax.set_ylabel('Probability %')\n",
    "    ax.set_xlabel('Dice Outcome: $X_{0}$'.format(k))\n",
    "    ax.set_title('Probability: $p(Z_{}, X_{} | S, O_{})$'.format(k,k,'{1:t}'))\n",
    "    ax.legend()\n",
    "    print('Sum of probabilities: {}'.format(np.sum(prob_table)))"
   ]
  },
  {
   "cell_type": "code",
   "execution_count": null,
   "metadata": {
    "collapsed": true
   },
   "outputs": [],
   "source": [
    "starting_prior = [1/2, 1/2]\n",
    "dice_dist1 = [1/2]+[1/10]*5\n",
    "dice_dist2 = [1/10]*5+[1/2]\n",
    "print(dice_dist2)\n",
    "transition_matrix = [[3/4, 1/4],[1/4, 3/4]]\n",
    "prob_observe = 0.5\n",
    "k = 1\n",
    "observations_list = [-1,6,5,6,-1,-1,-1] # 7 observations --> 7 tables\n",
    "s = 24 # Must be in (7, 42) for 7 tables.\n",
    "test_plot_conditional(starting_prior, dice_dist1, dice_dist2, transition_matrix, prob_observe, k, observations_list, s)"
   ]
  },
  {
   "cell_type": "code",
   "execution_count": null,
   "metadata": {
    "collapsed": true
   },
   "outputs": [],
   "source": [
    "k = 5\n",
    "observations_list = [1,6,5,6,-1,2,1] # 7 observations --> 7 tables\n",
    "s = 24 # Must be in (7, 42) for 7 tables.\n",
    "test_plot_conditional(starting_prior, dice_dist1, dice_dist2, transition_matrix, prob_observe, k, observations_list, s)"
   ]
  },
  {
   "cell_type": "code",
   "execution_count": null,
   "metadata": {
    "collapsed": true
   },
   "outputs": [],
   "source": [
    "k = 5\n",
    "observations_list = [1,2,5,4,-1,3,3] # 7 observations --> 7 tables\n",
    "s = 24 # Must be in (7, 42) for 7 tables.\n",
    "test_plot_conditional(starting_prior, dice_dist1, dice_dist2, transition_matrix, prob_observe, k, observations_list, s)"
   ]
  },
  {
   "cell_type": "code",
   "execution_count": null,
   "metadata": {
    "collapsed": true,
    "scrolled": true
   },
   "outputs": [],
   "source": [
    "starting_prior = [1/2, 1/2]\n",
    "dice_dist1 = [1/2]+[1/10]*5\n",
    "dice_dist2 = [1/10] + [1/2] + [1/10]*4\n",
    "# dice_dist2 = [1/2]+[1/10]*5\n",
    "transition_matrix = [[3/4, 1/4],[1/4, 3/4]]\n",
    "prob_observe = 0.5\n",
    "\n",
    "\n",
    "k = 3\n",
    "observations_list = [-1,2,-1,-1,2,2,-1] # 7 observations --> 7 tables\n",
    "print(sum(observations_list) + 1)\n",
    "s = 24 # Must be in (7, 42) for 7 tables.\n",
    "test_plot_conditional(starting_prior, dice_dist1, dice_dist2, transition_matrix, prob_observe, k, observations_list, s)\n",
    "\n",
    "# Change between 1s and 2s for observation. If we observe more 1s then state 1 should be more likely.\n",
    "# if we observe more 2s, then state 2 should be more likley overall."
   ]
  },
  {
   "cell_type": "code",
   "execution_count": null,
   "metadata": {
    "collapsed": true,
    "scrolled": true
   },
   "outputs": [],
   "source": [
    "# Should not be zero!!!!\n",
    "starting_prior = [1/2, 1/2]\n",
    "dice_dist1 = [1/2]+[1/10]*5\n",
    "dice_dist2 = [1/10] + [1/2] + [1/10]*4\n",
    "# dice_dist2 = [1/2]+[1/10]*5\n",
    "transition_matrix = [[3/4, 1/4],[1/4, 3/4]]\n",
    "prob_observe = 0.5\n",
    "\n",
    "\n",
    "k = 7\n",
    "observations_list = [6,6,6,6,6,1,-1] # 7 observations --> 7 tables\n",
    "print(sum(observations_list) + 1)\n",
    "s = 33 # Must be in (7, 42) for 7 tables.\n",
    "test_plot_conditional(starting_prior, dice_dist1, dice_dist2, transition_matrix, prob_observe, k, observations_list, s)"
   ]
  },
  {
   "cell_type": "code",
   "execution_count": null,
   "metadata": {
    "collapsed": true,
    "scrolled": true
   },
   "outputs": [],
   "source": [
    "# Should not be zero!!!!\n",
    "starting_prior = [1/2, 1/2]\n",
    "dice_dist1 = [1/2]+[1/10]*5\n",
    "dice_dist2 = [1/10] + [1/2] + [1/10]*4\n",
    "print(dice_dist1)\n",
    "print(dice_dist2)\n",
    "# dice_dist2 = [1/2]+[1/10]*5\n",
    "transition_matrix = [[3/4, 1/4],[1/4, 3/4]]\n",
    "prob_observe = 0.5\n",
    "\n",
    "\n",
    "k = 7\n",
    "observations_list = [6,6,6,6,1,1,-1] # 7 observations --> 7 tables\n",
    "print(sum(observations_list) + 1)\n",
    "s = 28 # Must be in (7, 42) for 7 tables.\n",
    "test_plot_conditional(starting_prior, dice_dist1, dice_dist2, transition_matrix, prob_observe, k, observations_list, s)"
   ]
  },
  {
   "cell_type": "code",
   "execution_count": null,
   "metadata": {
    "collapsed": true,
    "scrolled": true
   },
   "outputs": [],
   "source": [
    "# Should not be zero!!!!\n",
    "starting_prior = [1/2, 1/2]\n",
    "dice_dist1 = [1/2]+[1/10]*5\n",
    "dice_dist2 = [1/10] + [1/2] + [1/10]*4\n",
    "# dice_dist2 = [1/2]+[1/10]*5\n",
    "transition_matrix = [[3/4, 1/4],[1/4, 3/4]]\n",
    "prob_observe = 0.5\n",
    "\n",
    "\n",
    "k = 7\n",
    "observations_list = [6,6,6,1,1,1,-1] # 7 observations --> 7 tables\n",
    "print(sum(observations_list) + 1)\n",
    "s = 23 # Must be in (7, 42) for 7 tables.\n",
    "test_plot_conditional(starting_prior, dice_dist1, dice_dist2, transition_matrix, prob_observe, k, observations_list, s)"
   ]
  },
  {
   "cell_type": "code",
   "execution_count": null,
   "metadata": {
    "collapsed": true
   },
   "outputs": [],
   "source": [
    "starting_prior = [1/2, 1/2]\n",
    "dice_dist1 = [1/2]+[1/10]*5\n",
    "dice_dist2 = [1/10] + [1/2] + [1/10]*4\n",
    "# dice_dist2 = [1/2]+[1/10]*5\n",
    "transition_matrix = [[3/4, 1/4],[1/4, 3/4]]\n",
    "prob_observe = 0.5\n",
    "\n",
    "\n",
    "k = 7\n",
    "observations_list = [1,1,1,1,1,1,-1] # 7 observations --> 7 tables\n",
    "print(sum(observations_list) + 1)\n",
    "s = 8 # Must be in (7, 42) for 7 tables.\n",
    "test_plot_conditional(starting_prior, dice_dist1, dice_dist2, transition_matrix, prob_observe, k, observations_list, s)\n",
    "\n",
    "\n",
    "# 5x as likely to generate a 2 in state 2 than in state 1. This overpowers the fact that it is\n",
    "# more likely to generate all previous observations in state 1. However, state 1 is still rather likely."
   ]
  },
  {
   "cell_type": "code",
   "execution_count": null,
   "metadata": {
    "collapsed": true
   },
   "outputs": [],
   "source": [
    "starting_prior = [1/2, 1/2]\n",
    "dice_dist1 = [1/2]+[1/10]*5\n",
    "dice_dist2 = [1/10] + [1/2] + [1/10]*4\n",
    "# dice_dist2 = [1/2]+[1/10]*5\n",
    "transition_matrix = [[3/4, 1/4],[1/4, 3/4]]\n",
    "prob_observe = 0.5\n",
    "\n",
    "\n",
    "k = 7\n",
    "observations_list = [1,1,1,1,1,1,-1] # 7 observations --> 7 tables\n",
    "print(sum(observations_list) + 1)\n",
    "s = 9 # Must be in (7, 42) for 7 tables.\n",
    "test_plot_conditional(starting_prior, dice_dist1, dice_dist2, transition_matrix, prob_observe, k, observations_list, s)\n",
    "\n",
    "\n",
    "# As soon as we switch sum to a number to which both dist1 and dist2 are indifferent towards,\n",
    "# state 1 quickly becomes the more likely state since it is much more likely to transition to state 1 from state 1,\n",
    "# and the previous observations should be more likely given state 1."
   ]
  },
  {
   "cell_type": "code",
   "execution_count": null,
   "metadata": {
    "collapsed": true
   },
   "outputs": [],
   "source": [
    "starting_prior = [1/2, 1/2]\n",
    "dice_dist1 = [1/2]+[1/10]*5\n",
    "dice_dist2 = [1/10]*5+[1/2]\n",
    "transition_matrix = [[3/4, 1/4],[1/4, 3/4]]\n",
    "prob_observe = 0.5\n",
    "\n",
    "hmm = HMM(starting_prior, dice_dist1, dice_dist2, transition_matrix, prob_observe)\n",
    "\n",
    "k = 1\n",
    "observations_list = [1,-1,-1,-1,1,1,-1] # 7 observations --> 7 tables\n",
    "s = 24 # Must be in (7, 42) for 7 tables.\n",
    "prob_table = hmm.calculate_conditional(k, s, observations_list)"
   ]
  },
  {
   "cell_type": "code",
   "execution_count": null,
   "metadata": {
    "collapsed": true
   },
   "outputs": [],
   "source": [
    "prob_table = np.transpose(prob_table)\n",
    "df = pd.DataFrame(prob_table, columns=['state1', 'state2'], index=np.arange(1,7))"
   ]
  },
  {
   "cell_type": "code",
   "execution_count": null,
   "metadata": {
    "collapsed": true
   },
   "outputs": [],
   "source": [
    "for state in range(2):\n",
    "    for x in range(6):\n",
    "        print(x+1)\n",
    "        print('Prob: {:.1f} %'.format(prob_table[state][x] * 100))"
   ]
  },
  {
   "cell_type": "markdown",
   "metadata": {},
   "source": [
    "## Validating and Testing Prob (Sum)"
   ]
  },
  {
   "cell_type": "code",
   "execution_count": null,
   "metadata": {
    "collapsed": true,
    "scrolled": true
   },
   "outputs": [],
   "source": [
    "# Starts here.\n",
    "\n",
    "# self, observed_sum, final_node, observations_list, z_k (k, z_k, x_k)\n",
    "sum_result = hmm.find_prob_sum(observed_sum=24, final_node=7, observations_list=[-1,-1,-1,-1,-1,-1,-1], z_k=(1,1,5))\n",
    "print(sum_result)"
   ]
  },
  {
   "cell_type": "code",
   "execution_count": null,
   "metadata": {
    "collapsed": true
   },
   "outputs": [],
   "source": [
    "hmm.evidence_matrix"
   ]
  },
  {
   "cell_type": "code",
   "execution_count": null,
   "metadata": {
    "collapsed": true
   },
   "outputs": [],
   "source": [
    "# TEST\n",
    "hmm.reset()\n",
    "for _ in range(10):\n",
    "    hmm.run()\n",
    "\n",
    "observed_outcomes = hmm.observed_outcomes.copy()\n",
    "print(observed_outcomes)\n",
    "observed_outcomes.reverse()\n",
    "print(observed_outcomes)\n",
    "starting_cond = hmm.forward_init(observed_outcomes.pop())\n",
    "\n",
    "forward = hmm.forward(starting_cond, observed_outcomes)\n",
    "print(forward)\n",
    "\n",
    "hmm.semi_forward(hmm.observed_outcomes, 0)"
   ]
  },
  {
   "cell_type": "markdown",
   "metadata": {},
   "source": [
    "# Validation of implementation"
   ]
  },
  {
   "cell_type": "markdown",
   "metadata": {},
   "source": [
    "## All Dice Fair"
   ]
  },
  {
   "cell_type": "code",
   "execution_count": null,
   "metadata": {
    "collapsed": true
   },
   "outputs": [],
   "source": [
    "starting_prior = [1/2, 1/2]\n",
    "dice_dist1 = [1/6]*6\n",
    "dice_dist2 = [1/6]*6\n",
    "transition_matrix = [[1/4, 3/4],[3/4, 1/4]]\n",
    "prob_observe = 1\n",
    "\n",
    "hmm = HMM(starting_prior, dice_dist1, dice_dist2, transition_matrix, prob_observe)\n",
    "state_sequence = []\n",
    "for _ in range(10000):\n",
    "    state_sequence.append(hmm.state)\n",
    "    hmm.run()\n",
    "\n",
    "# plt.bar([0,1], [state_sequence.count(1), state_sequence.count(2)])\n",
    "\n",
    "# plt.hist(hmm.actual_outcomes, 50, facecolor='green', alpha=0.75)\n",
    "# plt.title('Distribution of outcomes from dice')\n",
    "# plt.ylabel('Number of outcomes')\n",
    "# plt.xlabel('Dice outcome')\n",
    "\n",
    "outcome_seq = np.array(hmm.actual_outcomes)\n",
    "state_seq = np.array(state_sequence)\n",
    "state1_outcomes = outcome_seq[state_seq == 0]\n",
    "state2_outcomes = outcome_seq[state_seq == 1]\n",
    "\n",
    "f, axs = plt.subplots(1, 3, sharex='col', sharey='row', figsize=(15,5))\n",
    "axs[0].hist(outcome_seq, 50, facecolor='blue', alpha=0.75)\n",
    "axs[0].set_title('Overall Dist. of outcomes')\n",
    "axs[1].hist(state1_outcomes, 50, facecolor='red', alpha=0.75, label='State1')\n",
    "axs[1].set_title('Dist. of outcomes from state 1')\n",
    "axs[2].hist(state2_outcomes, 50, facecolor='green', alpha=0.75, label='State2')\n",
    "axs[2].set_title('Dist. of outcomes from state 2')"
   ]
  },
  {
   "cell_type": "markdown",
   "metadata": {},
   "source": [
    "## Table1 Dice fair, Table2 Dice biased"
   ]
  },
  {
   "cell_type": "code",
   "execution_count": null,
   "metadata": {
    "collapsed": true
   },
   "outputs": [],
   "source": [
    "starting_prior = [1/2, 1/2]\n",
    "dice_dist1 = [1/6]*6\n",
    "dice_dist2 = [1/12]*4 + [2/6]*2\n",
    "transition_matrix = [[1/4, 3/4],[3/4, 1/4]]\n",
    "prob_observe = 1\n",
    "\n",
    "hmm = HMM(starting_prior, dice_dist1, dice_dist2, transition_matrix, prob_observe)\n",
    "state_sequence = []\n",
    "for _ in range(10000):\n",
    "    state_sequence.append(hmm.state)\n",
    "    hmm.run()\n",
    "\n",
    "# plt.hist(hmm.actual_outcomes, 50, facecolor='green', alpha=0.75)\n",
    "# plt.title('Distribution of outcomes from dice')\n",
    "# plt.ylabel('Number of outcomes')\n",
    "# plt.xlabel('Dice outcome')\n",
    "\n",
    "outcome_seq = np.array(hmm.actual_outcomes)\n",
    "state_seq = np.array(state_sequence)\n",
    "state1_outcomes = outcome_seq[state_seq == 0]\n",
    "state2_outcomes = outcome_seq[state_seq == 1]\n",
    "\n",
    "f, axs = plt.subplots(1, 3, sharex='col', sharey='row', figsize=(15,5))\n",
    "axs[0].hist(outcome_seq, 50, facecolor='blue', alpha=0.75)\n",
    "axs[0].set_title('Overall Dist. of outcomes')\n",
    "axs[1].hist(state1_outcomes, 50, facecolor='red', alpha=0.75, label='State1')\n",
    "axs[1].set_title('Dist. of outcomes from state 1')\n",
    "axs[2].hist(state2_outcomes, 50, facecolor='green', alpha=0.75, label='State2')\n",
    "axs[2].set_title('Dist. of outcomes from state 2')"
   ]
  },
  {
   "cell_type": "markdown",
   "metadata": {},
   "source": [
    "## Dice 1 biased, Dice 2 biased"
   ]
  },
  {
   "cell_type": "code",
   "execution_count": null,
   "metadata": {
    "collapsed": true
   },
   "outputs": [],
   "source": [
    "starting_prior = [1/2, 1/2]\n",
    "dice_dist1 = [2/6]*2 + [1/12]*4\n",
    "dice_dist2 = [1/12]*4 + [2/6]*2\n",
    "transition_matrix = [[1/4, 3/4],[3/4, 1/4]]\n",
    "prob_observe = 1\n",
    "\n",
    "hmm = HMM(starting_prior, dice_dist1, dice_dist2, transition_matrix, prob_observe)\n",
    "state_sequence = []\n",
    "for _ in range(10000):\n",
    "    state_sequence.append(hmm.state)\n",
    "    hmm.run()\n",
    "\n",
    "# plt.hist(hmm.actual_outcomes, 50, facecolor='green', alpha=0.75)\n",
    "# plt.title('Distribution of outcomes from dice')\n",
    "# plt.ylabel('Number of outcomes')\n",
    "# plt.xlabel('Dice outcome')\n",
    "\n",
    "outcome_seq = np.array(hmm.actual_outcomes)\n",
    "state_seq = np.array(state_sequence)\n",
    "state1_outcomes = outcome_seq[state_seq == 0]\n",
    "state2_outcomes = outcome_seq[state_seq == 1]\n",
    "\n",
    "f, axs = plt.subplots(1, 3, sharex='col', sharey='row', figsize=(15,5))\n",
    "axs[0].hist(outcome_seq, 50, facecolor='blue', alpha=0.75)\n",
    "axs[0].set_title('Overall Dist. of outcomes')\n",
    "axs[1].hist(state1_outcomes, 50, facecolor='red', alpha=0.75, label='State1')\n",
    "axs[1].set_title('Dist. of outcomes from state 1')\n",
    "axs[2].hist(state2_outcomes, 50, facecolor='green', alpha=0.75, label='State2')\n",
    "axs[2].set_title('Dist. of outcomes from state 2')"
   ]
  },
  {
   "cell_type": "markdown",
   "metadata": {
    "collapsed": true
   },
   "source": [
    "# Computing p(X_k = l, Z_k = h | O, S)\n",
    "Using dynamic programming\n",
    "\n",
    "Eg. Compute (x_2 = 3, Z_2 = 1 | O, S)"
   ]
  },
  {
   "cell_type": "code",
   "execution_count": null,
   "metadata": {
    "collapsed": true
   },
   "outputs": [],
   "source": [
    " ##### OLD VERSION #####\n",
    "# TODO: REMEMBER TO UPDATE PREVIOUS HMM MODEL TO FIX STATES TO BE BETWEEN 0 and 1 isntead of 1 and 2....\n",
    "\n",
    "transition_matrix = [[1/4, 3/4],[3/4, 1/4]]\n",
    "\n",
    "# Calculates: prob(O_(1:K-1), Z_K = h)\n",
    "def semi_forward(observations, current_state):\n",
    "    \"\"\"\n",
    "        current_state: An integer representing the current state of hidden variable Z at time K. {0,1}\n",
    "        observations: List of observations from time period 1:K-1. K being the current time.\n",
    "    \"\"\"\n",
    "    total_sum = 0\n",
    "    for prev_state in range(num_states):\n",
    "        # P(O_(1:K-1), Z_K-1)\n",
    "        forward = forward(observations, prev_state)\n",
    "        # P(Z_K | Z_(K-1))\n",
    "        transition_prob = transition_matrix[prev_state][current_state]\n",
    "        total_sum += forward * transition_prob\n",
    "    \n",
    "    return total_sum\n",
    "\n",
    "# Might run out of stack space?\n",
    "def forward(observations, current_state):\n",
    "    \"\"\"  Calculates the forward f_k(h) := p(O_(1:K), Z_K = h)\n",
    "    \n",
    "    Variables:\n",
    "        current_state: An integer representing the current state of hidden variable Z at time K. {0,1}\n",
    "        observations: List of observations from time period 1:K. K being the current time.\n",
    "    \"\"\"\n",
    "    \n",
    "    current_observation = observations.pop() # Removes and returns last element of list\n",
    "    evidence_prob = prob_observation(current_observation, current_state)\n",
    "    \n",
    "    # STOPPING CONDITION\n",
    "    if len(observations) == 1:\n",
    "        # p(O_1|Z_1) * p(Z_1)\n",
    "        return evidence_prob * starting_prior[current_state]\n",
    "    \n",
    "    total_sum = 0\n",
    "    for prev_state in range(num_states):\n",
    "        # P(O_(1:K-1), Z_K-1)\n",
    "        forward = forward(observations, prev_state) # Recursive call\n",
    "        # P(Z_K | Z_(K-1))\n",
    "        transition_prob = transition_matrix[prev_state][current_state]\n",
    "        total_sum += forward * transition_prob\n",
    "    \n",
    "    return evidence_prob * total_sum"
   ]
  },
  {
   "cell_type": "code",
   "execution_count": null,
   "metadata": {
    "collapsed": true
   },
   "outputs": [],
   "source": [
    "# TODO: REMEMBER TO UPDATE PREVIOUS HMM MODEL TO FIX STATES TO BE BETWEEN 0 and 1 isntead of 1 and 2....\n",
    "\n",
    "transition_matrix = [[1/4, 3/4],[3/4, 1/4]]\n",
    "dice_dist1 = [1/12]*4 + [2/6]*2\n",
    "dice_dist2 = [2/6]*2 + [1/12]*4\n",
    "evidence_matrix = [dice_dist1, dice_dist2]\n",
    "\n",
    "\n",
    "def semi_forward(observations, current_state):\n",
    "    \"\"\" Calculates: prob(O_(1:K-1), Z_K = h)\n",
    "    \n",
    "    Variables:\n",
    "        current_state: An integer representing the current state of hidden variable Z at time K. {0,1}\n",
    "        observations: List of observations from time period 1:K-1. K being the current time.\n",
    "    \"\"\"\n",
    "    observations.reverse() # Reverse so that we can pop from end of list corresponding to first time step\n",
    "    starting_condition = forward_init(observations.pop()) # Get initial starting condition for forward\n",
    "    forward = forward(starting_condition, observations) # Returns array of length = num_hidden_states\n",
    "    \n",
    "    total_sum = 0\n",
    "    for prev_state in range(NUM_STATES): # Sum over all previous states\n",
    "        transition_prob = transition_matrix[prev_state][current_state]\n",
    "        total_sum += forward[prev_state] * transition_prob\n",
    "    \n",
    "    return total_sum\n",
    "\n",
    "def forward_init(first_observation):\n",
    "    forwards = np.empty(NUM_STATES) # Array to hold values for each state\n",
    "    for state in range(NUM_STATES): # Loop through each state\n",
    "        evidence_prob = prob_observation(first_observation, state)\n",
    "        forwards[state] = evidence_prob * starting_prior[current_state]\n",
    "    \n",
    "    return forwards\n",
    "\n",
    "def prob_observation(current_observation, current_state):\n",
    "    \"\"\" Calculates P(O_k | Z_k)\n",
    "    \n",
    "    Variables:\n",
    "        current_observation: Integer in range (-1,6) representing observation from hidden state\n",
    "        current_state: Integer in range (0,1) representing the state of latent variable\n",
    "    \"\"\"\n",
    "    # Int: -1 represents an \"unobserved\" observation\n",
    "    if current_observation == -1:\n",
    "        return 1 - PROB_OBSERVE\n",
    "    else:\n",
    "        return PROB_OBSERVE * evidence_matrix[current_state][current_observation]\n",
    "\n",
    "def forward(prev_forwards, observations):\n",
    "    \"\"\"  Calculates the forward f_k(h) := p(O_(1:K), Z_K = h)\n",
    "    \n",
    "    Variables:\n",
    "        current_state: An integer representing the current state of hidden variable Z at time K. {0,1}\n",
    "        observations: List of observations from time period 1:K. K being the current time.\n",
    "    \"\"\"\n",
    "    \n",
    "    current_observation = observations.pop() # Removes and returns last element of list\n",
    "    current_forward = np.empty(NUM_STATES) # To hold current forward values\n",
    "    \n",
    "    for current_state in range(NUM_STATES): # Loop through each current state\n",
    "        evidence_prob = prob_observation(current_observation, current_state)\n",
    "        total_sum = 0\n",
    "        \n",
    "        for prev_state in range(NUM_STATES): # Sum over all previous states\n",
    "            transition_prob = transition_matrix[prev_state][current_state]\n",
    "            total_sum += prev_forwards[prev_state] * transition_prob\n",
    "        \n",
    "        # Update current_forward value\n",
    "        current_forward[current_state] = evidence_prob * total_sum\n",
    "    \n",
    "    # We have forwarded through all time steps until K-1\n",
    "    if (len(observations) == 0):\n",
    "        return current_forward\n",
    "    \n",
    "    future_forward = forward(current_forward, observations) # Recursive call moving forward\n",
    "    \n",
    "    # Return to top of calling stack\n",
    "    return future_forward"
   ]
  },
  {
   "cell_type": "code",
   "execution_count": null,
   "metadata": {
    "collapsed": true
   },
   "outputs": [],
   "source": []
  },
  {
   "cell_type": "code",
   "execution_count": null,
   "metadata": {
    "collapsed": true
   },
   "outputs": [],
   "source": []
  }
 ],
 "metadata": {
  "kernelspec": {
   "display_name": "Python [conda env:tf]",
   "language": "python",
   "name": "conda-env-tf-py"
  },
  "language_info": {
   "codemirror_mode": {
    "name": "ipython",
    "version": 3
   },
   "file_extension": ".py",
   "mimetype": "text/x-python",
   "name": "python",
   "nbconvert_exporter": "python",
   "pygments_lexer": "ipython3",
   "version": "3.6.2"
  }
 },
 "nbformat": 4,
 "nbformat_minor": 2
}
